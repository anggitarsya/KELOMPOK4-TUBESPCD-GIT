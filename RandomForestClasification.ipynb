{
 "cells": [
  {
   "cell_type": "code",
   "execution_count": 163,
   "metadata": {},
   "outputs": [],
   "source": [
    "import pandas as pd\n",
    "from sklearn.model_selection import train_test_split\n",
    "from sklearn.ensemble import RandomForestClassifier\n",
    "from sklearn.metrics import accuracy_score, classification_report"
   ]
  },
  {
   "cell_type": "code",
   "execution_count": 164,
   "metadata": {},
   "outputs": [
    {
     "data": {
      "text/html": [
       "<div>\n",
       "<style scoped>\n",
       "    .dataframe tbody tr th:only-of-type {\n",
       "        vertical-align: middle;\n",
       "    }\n",
       "\n",
       "    .dataframe tbody tr th {\n",
       "        vertical-align: top;\n",
       "    }\n",
       "\n",
       "    .dataframe thead th {\n",
       "        text-align: right;\n",
       "    }\n",
       "</style>\n",
       "<table border=\"1\" class=\"dataframe\">\n",
       "  <thead>\n",
       "    <tr style=\"text-align: right;\">\n",
       "      <th></th>\n",
       "      <th>path</th>\n",
       "      <th>contrast_0</th>\n",
       "      <th>dissimilarity_0</th>\n",
       "      <th>homogeneity_0</th>\n",
       "      <th>energy_0</th>\n",
       "      <th>correlation_0</th>\n",
       "      <th>entropy_0</th>\n",
       "      <th>asm_0</th>\n",
       "      <th>contrast_45</th>\n",
       "      <th>dissimilarity_45</th>\n",
       "      <th>...</th>\n",
       "      <th>entropy_95</th>\n",
       "      <th>asm_90</th>\n",
       "      <th>contrast_135</th>\n",
       "      <th>dissimilarity_135</th>\n",
       "      <th>homogeneity_135</th>\n",
       "      <th>energy_135</th>\n",
       "      <th>correlation_135</th>\n",
       "      <th>entropy_135</th>\n",
       "      <th>asm_135</th>\n",
       "      <th>labels</th>\n",
       "    </tr>\n",
       "  </thead>\n",
       "  <tbody>\n",
       "    <tr>\n",
       "      <th>0</th>\n",
       "      <td>datasets/ayam\\download.jpg</td>\n",
       "      <td>31.723499</td>\n",
       "      <td>1.780178</td>\n",
       "      <td>0.773439</td>\n",
       "      <td>0.373523</td>\n",
       "      <td>0.992065</td>\n",
       "      <td>-8.121195e+07</td>\n",
       "      <td>5.699516e-06</td>\n",
       "      <td>38.425113</td>\n",
       "      <td>1.992018</td>\n",
       "      <td>...</td>\n",
       "      <td>-8.121195e+07</td>\n",
       "      <td>5.798912e-06</td>\n",
       "      <td>38.975394</td>\n",
       "      <td>2.009704</td>\n",
       "      <td>0.759944</td>\n",
       "      <td>0.371465</td>\n",
       "      <td>0.990276</td>\n",
       "      <td>-8.121195e+07</td>\n",
       "      <td>5.668101e-06</td>\n",
       "      <td>ayam</td>\n",
       "    </tr>\n",
       "    <tr>\n",
       "      <th>1</th>\n",
       "      <td>datasets/ayam\\egg-white-food-protein-162712.jpeg</td>\n",
       "      <td>145.534926</td>\n",
       "      <td>4.446232</td>\n",
       "      <td>0.661080</td>\n",
       "      <td>0.029680</td>\n",
       "      <td>0.974904</td>\n",
       "      <td>-6.860687e+07</td>\n",
       "      <td>4.528761e-07</td>\n",
       "      <td>175.220638</td>\n",
       "      <td>5.059408</td>\n",
       "      <td>...</td>\n",
       "      <td>-6.860687e+07</td>\n",
       "      <td>4.741052e-07</td>\n",
       "      <td>200.862391</td>\n",
       "      <td>5.442784</td>\n",
       "      <td>0.628584</td>\n",
       "      <td>0.027062</td>\n",
       "      <td>0.965444</td>\n",
       "      <td>-6.860687e+07</td>\n",
       "      <td>4.129306e-07</td>\n",
       "      <td>ayam</td>\n",
       "    </tr>\n",
       "    <tr>\n",
       "      <th>2</th>\n",
       "      <td>datasets/ayam\\images (1).jpg</td>\n",
       "      <td>58.199280</td>\n",
       "      <td>3.465487</td>\n",
       "      <td>0.563528</td>\n",
       "      <td>0.005943</td>\n",
       "      <td>0.995214</td>\n",
       "      <td>-4.116777e+07</td>\n",
       "      <td>9.068146e-08</td>\n",
       "      <td>84.793233</td>\n",
       "      <td>4.281307</td>\n",
       "      <td>...</td>\n",
       "      <td>-4.116777e+07</td>\n",
       "      <td>8.889472e-08</td>\n",
       "      <td>128.201307</td>\n",
       "      <td>5.351603</td>\n",
       "      <td>0.462397</td>\n",
       "      <td>0.004995</td>\n",
       "      <td>0.989453</td>\n",
       "      <td>-4.116777e+07</td>\n",
       "      <td>7.622188e-08</td>\n",
       "      <td>ayam</td>\n",
       "    </tr>\n",
       "    <tr>\n",
       "      <th>3</th>\n",
       "      <td>datasets/ayam\\images.jpg</td>\n",
       "      <td>24.780775</td>\n",
       "      <td>1.759115</td>\n",
       "      <td>0.684215</td>\n",
       "      <td>0.008221</td>\n",
       "      <td>0.991645</td>\n",
       "      <td>-6.463863e+07</td>\n",
       "      <td>1.254424e-07</td>\n",
       "      <td>35.760246</td>\n",
       "      <td>2.355217</td>\n",
       "      <td>...</td>\n",
       "      <td>-6.463863e+07</td>\n",
       "      <td>1.360709e-07</td>\n",
       "      <td>32.507005</td>\n",
       "      <td>2.209366</td>\n",
       "      <td>0.632641</td>\n",
       "      <td>0.006677</td>\n",
       "      <td>0.989076</td>\n",
       "      <td>-6.463863e+07</td>\n",
       "      <td>1.018804e-07</td>\n",
       "      <td>ayam</td>\n",
       "    </tr>\n",
       "    <tr>\n",
       "      <th>4</th>\n",
       "      <td>datasets/ayam\\IMG_20220818_154051.jpg</td>\n",
       "      <td>261.348162</td>\n",
       "      <td>6.991023</td>\n",
       "      <td>0.408858</td>\n",
       "      <td>0.000707</td>\n",
       "      <td>0.975456</td>\n",
       "      <td>-3.520562e+07</td>\n",
       "      <td>1.078356e-08</td>\n",
       "      <td>461.932180</td>\n",
       "      <td>10.249935</td>\n",
       "      <td>...</td>\n",
       "      <td>-3.520562e+07</td>\n",
       "      <td>7.876910e-09</td>\n",
       "      <td>458.216855</td>\n",
       "      <td>10.177670</td>\n",
       "      <td>0.330502</td>\n",
       "      <td>0.000501</td>\n",
       "      <td>0.957030</td>\n",
       "      <td>-3.520562e+07</td>\n",
       "      <td>7.640104e-09</td>\n",
       "      <td>ayam</td>\n",
       "    </tr>\n",
       "    <tr>\n",
       "      <th>5</th>\n",
       "      <td>datasets/ayam\\IMG_20220818_160129.jpg</td>\n",
       "      <td>40.911719</td>\n",
       "      <td>3.102895</td>\n",
       "      <td>0.495737</td>\n",
       "      <td>0.001786</td>\n",
       "      <td>0.995795</td>\n",
       "      <td>-2.643598e+07</td>\n",
       "      <td>2.724616e-08</td>\n",
       "      <td>116.283875</td>\n",
       "      <td>5.542253</td>\n",
       "      <td>...</td>\n",
       "      <td>-2.643598e+07</td>\n",
       "      <td>1.660997e-08</td>\n",
       "      <td>107.467220</td>\n",
       "      <td>5.404598</td>\n",
       "      <td>0.375016</td>\n",
       "      <td>0.001010</td>\n",
       "      <td>0.988987</td>\n",
       "      <td>-2.643598e+07</td>\n",
       "      <td>1.541017e-08</td>\n",
       "      <td>ayam</td>\n",
       "    </tr>\n",
       "  </tbody>\n",
       "</table>\n",
       "<p>6 rows × 30 columns</p>\n",
       "</div>"
      ],
      "text/plain": [
       "                                               path  contrast_0  \\\n",
       "0                        datasets/ayam\\download.jpg   31.723499   \n",
       "1  datasets/ayam\\egg-white-food-protein-162712.jpeg  145.534926   \n",
       "2                      datasets/ayam\\images (1).jpg   58.199280   \n",
       "3                          datasets/ayam\\images.jpg   24.780775   \n",
       "4             datasets/ayam\\IMG_20220818_154051.jpg  261.348162   \n",
       "5             datasets/ayam\\IMG_20220818_160129.jpg   40.911719   \n",
       "\n",
       "   dissimilarity_0  homogeneity_0  energy_0  correlation_0     entropy_0  \\\n",
       "0         1.780178       0.773439  0.373523       0.992065 -8.121195e+07   \n",
       "1         4.446232       0.661080  0.029680       0.974904 -6.860687e+07   \n",
       "2         3.465487       0.563528  0.005943       0.995214 -4.116777e+07   \n",
       "3         1.759115       0.684215  0.008221       0.991645 -6.463863e+07   \n",
       "4         6.991023       0.408858  0.000707       0.975456 -3.520562e+07   \n",
       "5         3.102895       0.495737  0.001786       0.995795 -2.643598e+07   \n",
       "\n",
       "          asm_0  contrast_45  dissimilarity_45  ...    entropy_95  \\\n",
       "0  5.699516e-06    38.425113          1.992018  ... -8.121195e+07   \n",
       "1  4.528761e-07   175.220638          5.059408  ... -6.860687e+07   \n",
       "2  9.068146e-08    84.793233          4.281307  ... -4.116777e+07   \n",
       "3  1.254424e-07    35.760246          2.355217  ... -6.463863e+07   \n",
       "4  1.078356e-08   461.932180         10.249935  ... -3.520562e+07   \n",
       "5  2.724616e-08   116.283875          5.542253  ... -2.643598e+07   \n",
       "\n",
       "         asm_90  contrast_135  dissimilarity_135  homogeneity_135  energy_135  \\\n",
       "0  5.798912e-06     38.975394           2.009704         0.759944    0.371465   \n",
       "1  4.741052e-07    200.862391           5.442784         0.628584    0.027062   \n",
       "2  8.889472e-08    128.201307           5.351603         0.462397    0.004995   \n",
       "3  1.360709e-07     32.507005           2.209366         0.632641    0.006677   \n",
       "4  7.876910e-09    458.216855          10.177670         0.330502    0.000501   \n",
       "5  1.660997e-08    107.467220           5.404598         0.375016    0.001010   \n",
       "\n",
       "   correlation_135   entropy_135       asm_135  labels  \n",
       "0         0.990276 -8.121195e+07  5.668101e-06    ayam  \n",
       "1         0.965444 -6.860687e+07  4.129306e-07    ayam  \n",
       "2         0.989453 -4.116777e+07  7.622188e-08    ayam  \n",
       "3         0.989076 -6.463863e+07  1.018804e-07    ayam  \n",
       "4         0.957030 -3.520562e+07  7.640104e-09    ayam  \n",
       "5         0.988987 -2.643598e+07  1.541017e-08    ayam  \n",
       "\n",
       "[6 rows x 30 columns]"
      ]
     },
     "execution_count": 164,
     "metadata": {},
     "output_type": "execute_result"
    }
   ],
   "source": [
    "data = pd.read_csv('glcm_result.csv')\n",
    "data.head(6)"
   ]
  },
  {
   "attachments": {},
   "cell_type": "markdown",
   "metadata": {},
   "source": [
    "kode di atas merupakan kode yang digunakan untuk membaca file csv dengan menggunakan liblary pandas. file tersebut dikonversi menjadi objek dataframe.\n",
    "dan selanjutnya menampilkan 6 baris pertama dari dataframe 'data'."
   ]
  },
  {
   "cell_type": "code",
   "execution_count": 165,
   "metadata": {},
   "outputs": [],
   "source": [
    "y = data['labels']\n",
    "x = data.drop(['path', 'labels'], axis=1)"
   ]
  },
  {
   "attachments": {},
   "cell_type": "markdown",
   "metadata": {},
   "source": [
    "kode di atas merupakan pemilihan 'labels' dari dataframe 'data' yang disimpan ke dalam variabel y. dan selanjutnya data frame baru dengan variabel x dibuat dengan menghapus kolom 'path' dan 'labels' menggunakan fungsi drop dengan parameter kolom yang akan dihapus dan 'axis=1' yang berarti kita menghapus kolom."
   ]
  },
  {
   "cell_type": "code",
   "execution_count": 166,
   "metadata": {},
   "outputs": [
    {
     "data": {
      "text/plain": [
       "path                 False\n",
       "contrast_0           False\n",
       "dissimilarity_0      False\n",
       "homogeneity_0        False\n",
       "energy_0             False\n",
       "correlation_0        False\n",
       "entropy_0            False\n",
       "asm_0                False\n",
       "contrast_45          False\n",
       "dissimilarity_45     False\n",
       "homogeneity_45       False\n",
       "energy_45            False\n",
       "correlation_45       False\n",
       "entropy_45           False\n",
       "asm_45               False\n",
       "contrast_90          False\n",
       "dissimilarity_90     False\n",
       "homogeneity_90       False\n",
       "energy_90            False\n",
       "correlation_90       False\n",
       "entropy_95           False\n",
       "asm_90               False\n",
       "contrast_135         False\n",
       "dissimilarity_135    False\n",
       "homogeneity_135      False\n",
       "energy_135           False\n",
       "correlation_135      False\n",
       "entropy_135          False\n",
       "asm_135              False\n",
       "labels               False\n",
       "dtype: bool"
      ]
     },
     "execution_count": 166,
     "metadata": {},
     "output_type": "execute_result"
    }
   ],
   "source": [
    "data.isnull().any()"
   ]
  },
  {
   "attachments": {},
   "cell_type": "markdown",
   "metadata": {},
   "source": [
    "kode di atas digunakan untuk melakukan pengecekan terhadap dataframe apakah terdapat nilai kosong pada dataframe. jika sel tersebut bernilai null maka akan diisi dengan nilai true dan False jika sel tersebut memiliki nilai yang valid.\n",
    "'any()'adalah metode yang digunakan pada DataFrame untuk mengecek apakah ada setidaknya satu nilai True pada setiap kolom. Jika ada nilai True dalam suatu kolom, maka 'any()' akan mengembalikan True untuk kolom tersebut, dan jika semua nilai dalam kolom adalah False, maka 'any()' akan mengembalikan False untuk kolom tersebut."
   ]
  },
  {
   "cell_type": "code",
   "execution_count": 167,
   "metadata": {},
   "outputs": [
    {
     "data": {
      "text/plain": [
       "path                 False\n",
       "contrast_0           False\n",
       "dissimilarity_0      False\n",
       "homogeneity_0        False\n",
       "energy_0             False\n",
       "correlation_0        False\n",
       "entropy_0            False\n",
       "asm_0                False\n",
       "contrast_45          False\n",
       "dissimilarity_45     False\n",
       "homogeneity_45       False\n",
       "energy_45            False\n",
       "correlation_45       False\n",
       "entropy_45           False\n",
       "asm_45               False\n",
       "contrast_90          False\n",
       "dissimilarity_90     False\n",
       "homogeneity_90       False\n",
       "energy_90            False\n",
       "correlation_90       False\n",
       "entropy_95           False\n",
       "asm_90               False\n",
       "contrast_135         False\n",
       "dissimilarity_135    False\n",
       "homogeneity_135      False\n",
       "energy_135           False\n",
       "correlation_135      False\n",
       "entropy_135          False\n",
       "asm_135              False\n",
       "labels               False\n",
       "dtype: bool"
      ]
     },
     "execution_count": 167,
     "metadata": {},
     "output_type": "execute_result"
    }
   ],
   "source": [
    "data = data.fillna(0)\n",
    "data.isnull().any()"
   ]
  },
  {
   "attachments": {},
   "cell_type": "markdown",
   "metadata": {},
   "source": [
    "kode di atas digunakan untuk mengelola data yang kosong. fungsi 'data.fillna(0)' digunakan untuk menggati semua data yang kosong dalam dataframe menjadi nilai 0.\n",
    "selanjutan dilakukan lagi pemerikasaan apakah masih ada data yang kosong pada dataframe."
   ]
  },
  {
   "cell_type": "code",
   "execution_count": 168,
   "metadata": {},
   "outputs": [],
   "source": [
    "rf_model = RandomForestClassifier()\n",
    "X_train, X_test, y_train, y_test = train_test_split(x, y, test_size=0.2, random_state=42)"
   ]
  },
  {
   "attachments": {},
   "cell_type": "markdown",
   "metadata": {},
   "source": [
    "kode di atas merupakan penginisialisasian objek model klasifikasi random forest dengan menggunakan parameter default. yang berarti berarti model akan dibuat dengan pengaturan default yang telah ditentukan untuk RandomForestClassifier.\n",
    "selanjutnya merupakan pembagian data menjadi data test ata uji dan train atau pelatihan. data dibagi menjadi 2 bagian berdasarkan variabel 'x' fitur dam 'y' labels. 0.2 atau 20% data akan dialokasikan  untuk pengujian dan sisa datanya 80% akan digunakan untuk pelatihan. Parameter 'random_state=42' digunakan untuk mengatur biji acak (random seed) sehingga pembagian data menjadi set pelatihan dan pengujian dapat direproduksi dengan cara yang sama setiap kali kode tersebut dijalankan.\n",
    "\n",
    "Setelah membagi data, variabel 'X_train' akan berisi set fitur pelatihan, 'y_train' akan berisi set label pelatihan, 'X_test' akan berisi set fitur pengujian, dan 'y_test' akan berisi set label pengujian. Variabel ini akan digunakan untuk melatih dan menguji model klasifikasi Random Forest yang telah diinisialisasi sebelumnya 'rf_model'."
   ]
  },
  {
   "cell_type": "code",
   "execution_count": 169,
   "metadata": {},
   "outputs": [],
   "source": [
    "rf_model.fit(X_train, y_train)\n",
    "rf_pred= rf_model.predict(X_test)"
   ]
  },
  {
   "attachments": {},
   "cell_type": "markdown",
   "metadata": {},
   "source": [
    "kode di atas merupakan langkah pelatihan (fitting) model Random Forest. Fungsi 'fit()' digunakan untuk melatih model pada set pelatihan. Variabel 'X_train 'berisi fitur-fitur pelatihan, sedangkan 'y_train' berisi label-label pelatihan. Dengan memanggil .'fit(X_train, y_train)' pada objek model rf_model, model Random Forest akan belajar dari fitur-fitur dan label-label yang telah diberikan.\n",
    "\n",
    "selanjutnya adalah langkah predikisi menggunakan model random forest yang dilatih. Fungsi 'predict()' digunakan untuk melakukan prediksi pada set pengujian. Variabel 'X_test' berisi fitur-fitur pengujian yang ingin kita lakukan prediksi. Hasil prediksi akan disimpan dalam variabel 'rf_pred'.Hasil prediksi akan disimpan dalam variabel rf_pred untuk digunakan dalam evaluasi kinerja model atau keperluan lainnya."
   ]
  },
  {
   "cell_type": "code",
   "execution_count": 170,
   "metadata": {},
   "outputs": [],
   "source": [
    "rf_accuracy = accuracy_score(y_test, rf_pred)\n",
    "rf_report = classification_report(y_test, rf_pred)"
   ]
  },
  {
   "attachments": {},
   "cell_type": "markdown",
   "metadata": {},
   "source": [
    "kode di atas digunakan untuk menghitung akurasi model klasifikasi Random Forest dengan membandingkan label aktual 'y_test' dari set pengujian dengan label prediksi 'rf_pred'. Fungsi 'accuracy_score()' dari scikit-learn digunakan untuk menghitung akurasi dengan membandingkan label prediksi dengan label aktual. Nilai akurasi akan disimpan dalam variabel 'rf_accuracy' untuk digunakan atau dicetak nanti.\n",
    "\n",
    "selanjutnya variabel 'rf_report' berfungsi untuk menghasilkan laporan klasifikasi yang terperinci untuk model klasifikasi Random Forest pada set pengujian. Fungsi 'classification_report()' dari scikit-learn digunakan untuk menghasilkan laporan yang mencakup beberapa metrik evaluasi klasifikasi seperti presisi (precision), recall, nilai F1 (F1-score), dan dukungan (support) untuk setiap kelas. Laporan ini membantu dalam mengevaluasi kinerja model secara komprehensif. Laporan klasifikasi akan disimpan dalam variabel rf_report untuk digunakan atau dicetak nanti.\n",
    "\n",
    "Dengan menggunakan kode ini, kita dapat mengukur akurasi model klasifikasi Random Forest dengan membandingkan label prediksi dan label aktual menggunakan accuracy_score(). Selain itu, kita juga dapat melihat laporan klasifikasi yang memberikan informasi lebih rinci tentang performa model pada set pengujian menggunakan classification_report()."
   ]
  },
  {
   "cell_type": "code",
   "execution_count": 171,
   "metadata": {},
   "outputs": [
    {
     "name": "stdout",
     "output_type": "stream",
     "text": [
      "Random Forest Accuracy: 78.33333333333333 %\n",
      "Random Forest Classification Report:\n",
      "               precision    recall  f1-score   support\n",
      "\n",
      "        ayam       0.90      0.82      0.86        22\n",
      "      kalkun       0.62      0.81      0.70        16\n",
      "       puyuh       0.84      0.73      0.78        22\n",
      "\n",
      "    accuracy                           0.78        60\n",
      "   macro avg       0.79      0.79      0.78        60\n",
      "weighted avg       0.80      0.78      0.79        60\n",
      "\n"
     ]
    }
   ],
   "source": [
    "print(\"Random Forest Accuracy:\", rf_accuracy * 100, \"%\")\n",
    "print(\"Random Forest Classification Report:\\n\", rf_report)"
   ]
  },
  {
   "attachments": {},
   "cell_type": "markdown",
   "metadata": {},
   "source": [
    "kode di atas digunakan untuk mencetak nilai accuracy darim model klasifikasi random forest. nilai akurasi uang di simpan dalam variabel rf_accuracy dikalikan dengan 100 untuk mengubahnya menjadi persentase dan kemudian dicetak. \n",
    "\n",
    "dan nilai laporan yang disimpan dalam variabel rf_report akan dicetak dan memberikan laporan  informasi rinci tentang metrik evaluasi klasifikasi seperti presisi, recall, nilai F1, dan dukungan untuk setiap kelas."
   ]
  },
  {
   "attachments": {},
   "cell_type": "markdown",
   "metadata": {},
   "source": [
    "# Penjelasan Output\n",
    "Random Forest Accuracy: 78.33333333333333%: Menunjukkan bahwa akurasi model klasifikasi Random Forest adalah sebesar 78.33%. Akurasi mengukur sejauh mana model dapat melakukan prediksi dengan benar pada set pengujian. Dalam kasus ini, model mencapai tingkat akurasi sebesar 78.33%.\n",
    "\n",
    "Precision: Menunjukkan presisi (precision) dari model untuk setiap kelas. Presisi adalah ukuran dari sejauh mana prediksi positif yang dilakukan oleh model benar. Semakin tinggi nilai presisi, semakin sedikit prediksi palsu positif yang dibuat oleh model.\n",
    "\n",
    "Recall: Menunjukkan recall (recall) dari model untuk setiap kelas. Recall adalah ukuran dari sejauh mana model mampu menemukan kembali (mengingat) instans positif yang sebenarnya. Semakin tinggi nilai recall, semakin sedikit instans positif yang terlewatkan oleh model.\n",
    "\n",
    "F1-Score: Menunjukkan nilai F1-Score untuk setiap kelas. F1-Score adalah ukuran rata-rata harmonik antara presisi dan recall. F1-Score memberikan gambaran keseluruhan tentang keseimbangan antara presisi dan recall.\n",
    "\n",
    "Support: Menunjukkan jumlah sampel yang ada dalam set pengujian untuk setiap kelas.\n",
    "\n",
    "Informasi di bawah laporan klasifikasi adalah nilai rata-rata dari presisi, recall, dan F1-Score untuk semua kelas, yaitu \"macro avg\" dan \"weighted avg\". \"Macro avg\" mengambil rata-rata dari metrik evaluasi kelas tanpa memperhatikan ketidakseimbangan jumlah sampel di setiap kelas, sedangkan \"weighted avg\" memberikan bobot rata-rata berdasarkan jumlah sampel di setiap kelas."
   ]
  }
 ],
 "metadata": {
  "kernelspec": {
   "display_name": "Python 3",
   "language": "python",
   "name": "python3"
  },
  "language_info": {
   "codemirror_mode": {
    "name": "ipython",
    "version": 3
   },
   "file_extension": ".py",
   "mimetype": "text/x-python",
   "name": "python",
   "nbconvert_exporter": "python",
   "pygments_lexer": "ipython3",
   "version": "3.11.2"
  },
  "orig_nbformat": 4
 },
 "nbformat": 4,
 "nbformat_minor": 2
}
